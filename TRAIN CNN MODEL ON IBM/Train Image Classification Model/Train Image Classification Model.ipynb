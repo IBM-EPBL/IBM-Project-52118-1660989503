pwd
'C:\\Users\\Admin'
!pip install Keras
!pip install tensorflow
Requirement already satisfied: Keras in c:\users\admin\anaconda3\lib\site-packages (2.11.0)
Requirement already satisfied: tensorflow in c:\users\admin\anaconda3\lib\site-packages (2.3.0)
Requirement already satisfied: h5py<2.11.0,>=2.10.0 in c:\users\admin\anaconda3\lib\site-packages (from tensorflow) (2.10.0)
Requirement already satisfied: tensorflow-estimator<2.4.0,>=2.3.0 in c:\users\admin\anaconda3\lib\site-packages (from tensorflow) (2.3.0)
Requirement already satisfied: absl-py>=0.7.0 in c:\users\admin\anaconda3\lib\site-packages (from tensorflow) (1.3.0)
Requirement already satisfied: grpcio>=1.8.6 in c:\users\admin\anaconda3\lib\site-packages (from tensorflow) (1.36.1)
Requirement already satisfied: termcolor>=1.1.0 in c:\users\admin\anaconda3\lib\site-packages (from tensorflow) (1.1.0)
Requirement already satisfied: scipy==1.4.1 in c:\users\admin\anaconda3\lib\site-packages (from tensorflow) (1.4.1)
Requirement already satisfied: gast==0.3.3 in c:\users\admin\anaconda3\lib\site-packages (from tensorflow) (0.3.3)
Requirement already satisfied: numpy<1.19.0,>=1.16.0 in c:\users\admin\anaconda3\lib\site-packages (from tensorflow) (1.18.5)
Requirement already satisfied: wheel>=0.26 in c:\users\admin\anaconda3\lib\site-packages (from tensorflow) (0.36.2)
Requirement already satisfied: tensorboard<3,>=2.3.0 in c:\users\admin\anaconda3\lib\site-packages (from tensorflow) (2.9.0)
Requirement already satisfied: wrapt>=1.11.1 in c:\users\admin\anaconda3\lib\site-packages (from tensorflow) (1.12.1)
Requirement already satisfied: opt-einsum>=2.3.2 in c:\users\admin\anaconda3\lib\site-packages (from tensorflow) (3.3.0)
Requirement already satisfied: astunparse==1.6.3 in c:\users\admin\anaconda3\lib\site-packages (from tensorflow) (1.6.3)
Requirement already satisfied: six>=1.12.0 in c:\users\admin\anaconda3\lib\site-packages (from tensorflow) (1.15.0)
Requirement already satisfied: keras-preprocessing<1.2,>=1.1.1 in c:\users\admin\anaconda3\lib\site-packages (from tensorflow) (1.1.2)
Requirement already satisfied: protobuf>=3.9.2 in c:\users\admin\anaconda3\lib\site-packages (from tensorflow) (3.19.1)
Requirement already satisfied: google-pasta>=0.1.8 in c:\users\admin\anaconda3\lib\site-packages (from tensorflow) (0.2.0)
Requirement already satisfied: google-auth<3,>=1.6.3 in c:\users\admin\anaconda3\lib\site-packages (from tensorboard<3,>=2.3.0->tensorflow) (2.6.0)
Requirement already satisfied: requests<3,>=2.21.0 in c:\users\admin\anaconda3\lib\site-packages (from tensorboard<3,>=2.3.0->tensorflow) (2.28.1)
Requirement already satisfied: tensorboard-plugin-wit>=1.6.0 in c:\users\admin\anaconda3\lib\site-packages (from tensorboard<3,>=2.3.0->tensorflow) (1.8.1)
Requirement already satisfied: setuptools>=41.0.0 in c:\users\admin\anaconda3\lib\site-packages (from tensorboard<3,>=2.3.0->tensorflow) (52.0.0.post20210125)
Requirement already satisfied: google-auth-oauthlib<0.5,>=0.4.1 in c:\users\admin\anaconda3\lib\site-packages (from tensorboard<3,>=2.3.0->tensorflow) (0.4.4)
Requirement already satisfied: werkzeug>=1.0.1 in c:\users\admin\anaconda3\lib\site-packages (from tensorboard<3,>=2.3.0->tensorflow) (1.0.1)
Requirement already satisfied: markdown>=2.6.8 in c:\users\admin\anaconda3\lib\site-packages (from tensorboard<3,>=2.3.0->tensorflow) (3.3.4)
Requirement already satisfied: tensorboard-data-server<0.7.0,>=0.6.0 in c:\users\admin\anaconda3\lib\site-packages (from tensorboard<3,>=2.3.0->tensorflow) (0.6.0)
Requirement already satisfied: pyasn1-modules>=0.2.1 in c:\users\admin\anaconda3\lib\site-packages (from google-auth<3,>=1.6.3->tensorboard<3,>=2.3.0->tensorflow) (0.2.8)
Requirement already satisfied: rsa<5,>=3.1.4 in c:\users\admin\anaconda3\lib\site-packages (from google-auth<3,>=1.6.3->tensorboard<3,>=2.3.0->tensorflow) (4.7.2)
Requirement already satisfied: cachetools<6.0,>=2.0.0 in c:\users\admin\anaconda3\lib\site-packages (from google-auth<3,>=1.6.3->tensorboard<3,>=2.3.0->tensorflow) (4.2.2)
Requirement already satisfied: requests-oauthlib>=0.7.0 in c:\users\admin\anaconda3\lib\site-packages (from google-auth-oauthlib<0.5,>=0.4.1->tensorboard<3,>=2.3.0->tensorflow) (1.3.0)
Requirement already satisfied: pyasn1<0.5.0,>=0.4.6 in c:\users\admin\anaconda3\lib\site-packages (from pyasn1-modules>=0.2.1->google-auth<3,>=1.6.3->tensorboard<3,>=2.3.0->tensorflow) (0.4.8)
Requirement already satisfied: idna<4,>=2.5 in c:\users\admin\anaconda3\lib\site-packages (from requests<3,>=2.21.0->tensorboard<3,>=2.3.0->tensorflow) (2.10)
Requirement already satisfied: certifi>=2017.4.17 in c:\users\admin\anaconda3\lib\site-packages (from requests<3,>=2.21.0->tensorboard<3,>=2.3.0->tensorflow) (2020.12.5)
Requirement already satisfied: charset-normalizer<3,>=2 in c:\users\admin\anaconda3\lib\site-packages (from requests<3,>=2.21.0->tensorboard<3,>=2.3.0->tensorflow) (2.0.4)
Requirement already satisfied: urllib3<1.27,>=1.21.1 in c:\users\admin\anaconda3\lib\site-packages (from requests<3,>=2.21.0->tensorboard<3,>=2.3.0->tensorflow) (1.26.12)
Requirement already satisfied: oauthlib>=3.0.0 in c:\users\admin\anaconda3\lib\site-packages (from requests-oauthlib>=0.7.0->google-auth-oauthlib<0.5,>=0.4.1->tensorboard<3,>=2.3.0->tensorflow) (3.2.1)
from tensorflow.keras.models import Sequential
from tensorflow.keras.layers import Dense
from tensorflow.keras.layers import Convolution2D
from tensorflow.keras.layers import MaxPooling2D
from tensorflow.keras.layers import Flatten
from tensorflow.keras.preprocessing.image import ImageDataGenerator
train_datagen = ImageDataGenerator(rescale=1./255,zoom_range=0.2,horizontal_flip=True, vertical_flip=False)
test_datagen= ImageDataGenerator(rescale=1./255)
import os, types
import pandas as pd
from botocore.client import Config
import ibm_boto3

def __iter__(self): return 0

# @hidden_cell
# The following code accesses a file in your IBM Cloud Object Storage. It includes your credentials.
# You might want to remove those credentials before you share the notebook.
cos_client = ibm_boto3.client(service_name='s3',
    ibm_api_key_id='_CF_zCnU3r3ob9Ykr5pZbPThZTaWYV5O-a6L4uGXFEF4',
    ibm_auth_endpoint="https://iam.cloud.ibm.com/oidc/token",
    config=Config(signature_version='oauth'),
    endpoint_url='https://s3.private.us.cloud-object-storage.appdomain.cloud')

bucket = 'imageclassification-donotdelete-pr-0b7lfassq3idmq'
object_key = 'Data.zip'

streaming_body_8 = cos_client.get_object(Bucket=bucket, Key=object_key)['Body']

# Your data file was loaded into a botocore.response.StreamingBody object.
# Please read the documentation of ibm_boto3 and pandas to learn more about the possibilities to load the data.
# ibm_boto3 documentation: https://ibm.github.io/ibm-cos-sdk-python/
# pandas documentation: http://pandas.pydata.org/
from io import BytesIO
import zipfile
unzip=zipfile.ZipFile(BytesIO(streaming_body_8.read()),'r')
file_paths=unzip.namelist()
for path in file_paths:
    unzip.extract(path)
pwd
'C:\\Users\\Admin'
x_train = train_datagen.flow_from_directory("C:\Program Files\Data Collection\train\train",target_size=(100,100),class_mode='categorical',batch_size=75)
x_test = test_datagen.flow_from_directory("C:\Program Files\Data Collection\test\test",target_size=(100,100),class_mode='categorical',batch_size=75)
Found 13000 images belonging to 26 classes.
Found 2688 images belonging to 26 classes.
x_train.class_indices
{'A': 0,
 'B': 1,
 'C': 2,
 'D': 3,
 'E': 4,
 'F': 5,
 'G': 6,
 'H': 7,
 'I': 8,
 'J': 9,
 'K': 10,
 'L': 11,
 'M': 12,
 'N': 13,
 'O': 14,
 'P': 15,
 'Q': 16,
 'R': 17,
 'S': 18,
 'T': 19,
 'U': 20,
 'V': 21,
 'W': 22,
 'X': 23,
 'Y': 24,
 'Z': 25}
model = Sequential()
model.add(Convolution2D(32, (3,3), input_shape=(100,100,3),activation = 'relu')) #Feature map
model.add(MaxPooling2D(pool_size = (2,2))) #Pooled matrix
model.add(Flatten())
model.summary()
Model: "sequential"
_________________________________________________________________
 Layer (type)                Output Shape              Param #   
=================================================================
 conv2d (Conv2D)             (None, 98, 98, 32)        896       
                                                                 
 max_pooling2d (MaxPooling2D  (None, 49, 49, 32)       0         
 )                                                               
                                                                 
 flatten (Flatten)           (None, 76832)             0         
                                                                 
=================================================================
Total params: 896
Trainable params: 896
Non-trainable params: 0
_________________________________________________________________
model.add(Dense(512,activation='relu'))
model.add(Dense(256,activation='relu'))
model.add(Dense(26,activation='softmax'))
model.compile(loss='categorical_crossentropy',optimizer='adam',metrics=['accuracy'])
len(x_train)
174
len(x_test)
36
model.fit_generator(x_train, steps_per_epoch=len(x_train), validation_data=x_test, validation_steps=len(x_test),epochs=10)
/tmp/wsuser/ipykernel_164/584640090.py:1: UserWarning: `Model.fit_generator` is deprecated and will be removed in a future version. Please use `Model.fit`, which supports generators.
  model.fit_generator(x_train, steps_per_epoch=len(x_train), validation_data=x_test, validation_steps=len(x_test),epochs=10)
Epoch 1/10
174/174 [==============================] - 214s 1s/step - loss: 1.3648 - accuracy: 0.7414 - val_loss: 0.0235 - val_accuracy: 0.9996
Epoch 2/10
174/174 [==============================] - 214s 1s/step - loss: 0.0397 - accuracy: 0.9939 - val_loss: 0.0063 - val_accuracy: 1.0000
Epoch 3/10
174/174 [==============================] - 207s 1s/step - loss: 0.0086 - accuracy: 0.9984 - val_loss: 0.0022 - val_accuracy: 1.0000
Epoch 5/10
174/174 [==============================] - 212s 1s/step - loss: 0.0058 - accuracy: 0.9992 - val_loss: 0.0023 - val_accuracy: 1.0000
Epoch 6/10
174/174 [==============================] - 214s 1s/step - loss: 0.0035 - accuracy: 0.9994 - val_loss: 0.0024 - val_accuracy: 0.9989
Epoch 7/10
174/174 [==============================] - 216s 1s/step - loss: 0.0053 - accuracy: 0.9988 - val_loss: 0.0030 - val_accuracy: 1.0000
Epoch 8/10
174/174 [==============================] - 213s 1s/step - loss: 0.0058 - accuracy: 0.9989 - val_loss: 0.0012 - val_accuracy: 1.0000
Epoch 9/10
174/174 [==============================] - 216s 1s/step - loss: 0.0021 - accuracy: 0.9998 - val_loss: 9.2902e-05 - val_accuracy: 1.0000
Epoch 10/10
174/174 [==============================] - 214s 1s/step - loss: 0.0040 - accuracy: 0.9991 - val_loss: 4.8844e-05 - val_accuracy: 1.0000
model.save('HandSign.h5')
!pip install watson-machine-learning-client --upgrade
Collecting watson-machine-learning-client
  Downloading watson_machine_learning_client-1.0.391-py3-none-any.whl (538 kB)
     |████████████████████████████████| 538 kB 16.9 MB/s eta 0:00:01
Requirement already satisfied: tabulate in /opt/conda/envs/Python-3.9/lib/python3.9/site-packages (from watson-machine-learning-client) (0.8.9)
Requirement already satisfied: ibm-cos-sdk in /opt/conda/envs/Python-3.9/lib/python3.9/site-packages (from watson-machine-learning-client) (2.11.0)
Requirement already satisfied: tqdm in /opt/conda/envs/Python-3.9/lib/python3.9/site-packages (from watson-machine-learning-client) (4.62.3)
Requirement already satisfied: urllib3 in /opt/conda/envs/Python-3.9/lib/python3.9/site-packages (from watson-machine-learning-client) (1.26.7)
Requirement already satisfied: lomond in /opt/conda/envs/Python-3.9/lib/python3.9/site-packages (from watson-machine-learning-client) (0.3.3)
Requirement already satisfied: boto3 in /opt/conda/envs/Python-3.9/lib/python3.9/site-packages (from watson-machine-learning-client) (1.18.21)
Requirement already satisfied: pandas in /opt/conda/envs/Python-3.9/lib/python3.9/site-packages (from watson-machine-learning-client) (1.3.4)
Requirement already satisfied: requests in /opt/conda/envs/Python-3.9/lib/python3.9/site-packages (from watson-machine-learning-client) (2.26.0)
Requirement already satisfied: certifi in /opt/conda/envs/Python-3.9/lib/python3.9/site-packages (from watson-machine-learning-client) (2022.9.24)
Requirement already satisfied: s3transfer<0.6.0,>=0.5.0 in /opt/conda/envs/Python-3.9/lib/python3.9/site-packages (from boto3->watson-machine-learning-client) (0.5.0)
Requirement already satisfied: botocore<1.22.0,>=1.21.21 in /opt/conda/envs/Python-3.9/lib/python3.9/site-packages (from boto3->watson-machine-learning-client) (1.21.41)
Requirement already satisfied: jmespath<1.0.0,>=0.7.1 in /opt/conda/envs/Python-3.9/lib/python3.9/site-packages (from boto3->watson-machine-learning-client) (0.10.0)
Requirement already satisfied: python-dateutil<3.0.0,>=2.1 in /opt/conda/envs/Python-3.9/lib/python3.9/site-packages (from botocore<1.22.0,>=1.21.21->boto3->watson-machine-learning-client) (2.8.2)
Requirement already satisfied: six>=1.5 in /opt/conda/envs/Python-3.9/lib/python3.9/site-packages (from python-dateutil<3.0.0,>=2.1->botocore<1.22.0,>=1.21.21->boto3->watson-machine-learning-client) (1.15.0)
Requirement already satisfied: ibm-cos-sdk-s3transfer==2.11.0 in /opt/conda/envs/Python-3.9/lib/python3.9/site-packages (from ibm-cos-sdk->watson-machine-learning-client) (2.11.0)
Requirement already satisfied: ibm-cos-sdk-core==2.11.0 in /opt/conda/envs/Python-3.9/lib/python3.9/site-packages (from ibm-cos-sdk->watson-machine-learning-client) (2.11.0)
Requirement already satisfied: idna<4,>=2.5 in /opt/conda/envs/Python-3.9/lib/python3.9/site-packages (from requests->watson-machine-learning-client) (3.3)
Requirement already satisfied: charset-normalizer~=2.0.0 in /opt/conda/envs/Python-3.9/lib/python3.9/site-packages (from requests->watson-machine-learning-client) (2.0.4)
Requirement already satisfied: pytz>=2017.3 in /opt/conda/envs/Python-3.9/lib/python3.9/site-packages (from pandas->watson-machine-learning-client) (2021.3)
Requirement already satisfied: numpy>=1.17.3 in /opt/conda/envs/Python-3.9/lib/python3.9/site-packages (from pandas->watson-machine-learning-client) (1.20.3)
Installing collected packages: watson-machine-learning-client
Successfully installed watson-machine-learning-client-1.0.391
from ibm_watson_machine_learning import APIClient
wml_credentials = {
    "url":"https://us-south.ml.cloud.ibm.com",
    "apikey":"3rHS2yjPVRZuSI3BERNZdd12z1795y1btiV6osUdMfdU"
}
client = APIClient(wml_credentials)
client = APIClient(wml_credentials)
def guid_from_space_name(client, space_name):
    space = client.spaces.get_details()
    return(next(item for item in space['resources']if item['entity']['name']== space_name)['metadata']['id'])
space_uid = guid_from_space_name(client,'imageclassification')
print("space UID=" + space_uid)
space UID=4ce1d0c0-8e85-4d4c-900c-4286c5a9f2c8
client.set.default_space(space_uid)
'SUCCESS'
client.software_specifications.list()
-----------------------------  ------------------------------------  ----
NAME                           ASSET_ID                              TYPE
default_py3.6                  0062b8c9-8b7d-44a0-a9b9-46c416adcbd9  base
kernel-spark3.2-scala2.12      020d69ce-7ac1-5e68-ac1a-31189867356a  base
pytorch-onnx_1.3-py3.7-edt     069ea134-3346-5748-b513-49120e15d288  base
scikit-learn_0.20-py3.6        09c5a1d0-9c1e-4473-a344-eb7b665ff687  base
spark-mllib_3.0-scala_2.12     09f4cff0-90a7-5899-b9ed-1ef348aebdee  base
pytorch-onnx_rt22.1-py3.9      0b848dd4-e681-5599-be41-b5f6fccc6471  base
ai-function_0.1-py3.6          0cdb0f1e-5376-4f4d-92dd-da3b69aa9bda  base
shiny-r3.6                     0e6e79df-875e-4f24-8ae9-62dcc2148306  base
tensorflow_2.4-py3.7-horovod   1092590a-307d-563d-9b62-4eb7d64b3f22  base
pytorch_1.1-py3.6              10ac12d6-6b30-4ccd-8392-3e922c096a92  base
tensorflow_1.15-py3.6-ddl      111e41b3-de2d-5422-a4d6-bf776828c4b7  base
autoai-kb_rt22.2-py3.10        125b6d9a-5b1f-5e8d-972a-b251688ccf40  base
runtime-22.1-py3.9             12b83a17-24d8-5082-900f-0ab31fbfd3cb  base
scikit-learn_0.22-py3.6        154010fa-5b3b-4ac1-82af-4d5ee5abbc85  base
default_r3.6                   1b70aec3-ab34-4b87-8aa0-a4a3c8296a36  base
pytorch-onnx_1.3-py3.6         1bc6029a-cc97-56da-b8e0-39c3880dbbe7  base
kernel-spark3.3-r3.6           1c9e5454-f216-59dd-a20e-474a5cdf5988  base
pytorch-onnx_rt22.1-py3.9-edt  1d362186-7ad5-5b59-8b6c-9d0880bde37f  base
tensorflow_2.1-py3.6           1eb25b84-d6ed-5dde-b6a5-3fbdf1665666  base
spark-mllib_3.2                20047f72-0a98-58c7-9ff5-a77b012eb8f5  base
tensorflow_2.4-py3.8-horovod   217c16f6-178f-56bf-824a-b19f20564c49  base
runtime-22.1-py3.9-cuda        26215f05-08c3-5a41-a1b0-da66306ce658  base
do_py3.8                       295addb5-9ef9-547e-9bf4-92ae3563e720  base
autoai-ts_3.8-py3.8            2aa0c932-798f-5ae9-abd6-15e0c2402fb5  base
tensorflow_1.15-py3.6          2b73a275-7cbf-420b-a912-eae7f436e0bc  base
kernel-spark3.3-py3.9          2b7961e2-e3b1-5a8c-a491-482c8368839a  base
pytorch_1.2-py3.6              2c8ef57d-2687-4b7d-acce-01f94976dac1  base
spark-mllib_2.3                2e51f700-bca0-4b0d-88dc-5c6791338875  base
pytorch-onnx_1.1-py3.6-edt     32983cea-3f32-4400-8965-dde874a8d67e  base
spark-mllib_3.0-py37           36507ebe-8770-55ba-ab2a-eafe787600e9  base
spark-mllib_2.4                390d21f8-e58b-4fac-9c55-d7ceda621326  base
autoai-ts_rt22.2-py3.10        396b2e83-0953-5b86-9a55-7ce1628a406f  base
xgboost_0.82-py3.6             39e31acd-5f30-41dc-ae44-60233c80306e  base
pytorch-onnx_1.2-py3.6-edt     40589d0e-7019-4e28-8daa-fb03b6f4fe12  base
pytorch-onnx_rt22.2-py3.10     40e73f55-783a-5535-b3fa-0c8b94291431  base
default_r36py38                41c247d3-45f8-5a71-b065-8580229facf0  base
autoai-ts_rt22.1-py3.9         4269d26e-07ba-5d40-8f66-2d495b0c71f7  base
autoai-obm_3.0                 42b92e18-d9ab-567f-988a-4240ba1ed5f7  base
pmml-3.0_4.3                   493bcb95-16f1-5bc5-bee8-81b8af80e9c7  base
spark-mllib_2.4-r_3.6          49403dff-92e9-4c87-a3d7-a42d0021c095  base
xgboost_0.90-py3.6             4ff8d6c2-1343-4c18-85e1-689c965304d3  base
pytorch-onnx_1.1-py3.6         50f95b2a-bc16-43bb-bc94-b0bed208c60b  base
autoai-ts_3.9-py3.8            52c57136-80fa-572e-8728-a5e7cbb42cde  base
spark-mllib_2.4-scala_2.11     55a70f99-7320-4be5-9fb9-9edb5a443af5  base
spark-mllib_3.0                5c1b0ca2-4977-5c2e-9439-ffd44ea8ffe9  base
autoai-obm_2.0                 5c2e37fa-80b8-5e77-840f-d912469614ee  base
spss-modeler_18.1              5c3cad7e-507f-4b2a-a9a3-ab53a21dee8b  base
cuda-py3.8                     5d3232bf-c86b-5df4-a2cd-7bb870a1cd4e  base
autoai-kb_3.1-py3.7            632d4b22-10aa-5180-88f0-f52dfb6444d7  base
pytorch-onnx_1.7-py3.8         634d3cdc-b562-5bf9-a2d4-ea90a478456b  base
-----------------------------  ------------------------------------  ----
Note: Only first 50 records were displayed. To display more use 'limit' parameter.
software_spec_uid=client.software_specifications.get_uid_by_name("tensorflow_rt22.1-py3.9")
print(software_spec_uid)
acd9c798-6974-5d2f-a657-ce06e986df4d
model_details = client.repository.store_model(model='specially-abled-model_new.tgz',meta_props={
     client.repository.ModelMetaNames.NAME:"CNN",
     client.repository.ModelMetaNames.TYPE:"tensorflow_2.7",
     client.repository.ModelMetaNames.SOFTWARE_SPEC_UID: software_spec_uid}
                                             )                                          
model_id=client.repository.get_model_uid(model_details)
This method is deprecated, please use get_model_id()
model_id
'520e2a02-e52b-4fc8-af7c-224398661308'
client.repository.download(model_id,'my_model.tar.gz')
Successfully saved model content to file: 'my_model.tar.gz'
'/home/wsuser/work/my_model.tar.gz'
