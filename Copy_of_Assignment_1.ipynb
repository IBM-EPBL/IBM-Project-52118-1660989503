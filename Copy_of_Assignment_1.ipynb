{
  "nbformat": 4,
  "nbformat_minor": 0,
  "metadata": {
    "colab": {
      "provenance": [],
      "collapsed_sections": [],
      "include_colab_link": true
    },
    "kernelspec": {
      "name": "python3",
      "display_name": "Python 3"
    },
    "language_info": {
      "name": "python"
    }
  },
  "cells": [
    {
      "cell_type": "markdown",
      "metadata": {
        "id": "view-in-github",
        "colab_type": "text"
      },
      "source": [
        "<a href=\"https://colab.research.google.com/github/IBM-EPBL/IBM-Project-52118-1660989503/blob/main/Copy_of_Assignment_1.ipynb\" target=\"_parent\"><img src=\"https://colab.research.google.com/assets/colab-badge.svg\" alt=\"Open In Colab\"/></a>"
      ]
    },
    {
      "cell_type": "markdown",
      "source": [
        "# Basic Python"
      ],
      "metadata": {
        "id": "McSxJAwcOdZ1"
      }
    },
    {
      "cell_type": "markdown",
      "source": [
        "## 1. Split this string"
      ],
      "metadata": {
        "id": "CU48hgo4Owz5"
      }
    },
    {
      "cell_type": "code",
      "source": [
        "s = \"Hi there Sam!\""
      ],
      "metadata": {
        "id": "s07c7JK7Oqt-"
      },
      "execution_count": null,
      "outputs": []
    },
    {
      "cell_type": "code",
      "source": [
        "s = \"Hi there Sam!\"\n",
        "string = \"Hi there Sam!\"\n",
        "print(string.split())"
      ],
      "metadata": {
        "id": "6mGVa3SQYLkb",
        "outputId": "a042946a-8a26-4aeb-f983-41773e335b7e",
        "colab": {
          "base_uri": "https://localhost:8080/"
        }
      },
      "execution_count": 29,
      "outputs": [
        {
          "output_type": "stream",
          "name": "stdout",
          "text": [
            "['Hi', 'there', 'Sam!']\n"
          ]
        }
      ]
    },
    {
      "cell_type": "markdown",
      "source": [
        "## 2. Use .format() to print the following string. \n",
        "\n",
        "### Output should be: The diameter of Earth is 12742 kilometers."
      ],
      "metadata": {
        "id": "GH1QBn8HP375"
      }
    },
    {
      "cell_type": "code",
      "source": [
        "\n",
        "\n",
        "print(\"The diameter of {} is {} kilometers.\".format(planet, diameter))\n",
        "\n",
        "#or, you can do it like that:\n",
        "\n",
        "print(f\"The diameter of {planet} is {diameter} kilometers.\")"
      ],
      "metadata": {
        "id": "_ZHoml3kPqic",
        "outputId": "9125f8cf-2690-4dd5-a202-9d98355aa1bb",
        "colab": {
          "base_uri": "https://localhost:8080/"
        }
      },
      "execution_count": 30,
      "outputs": [
        {
          "output_type": "stream",
          "name": "stdout",
          "text": [
            "The diameter of Earth is 12742 kilometers.\n",
            "The diameter of Earth is 12742 kilometers.\n"
          ]
        }
      ]
    },
    {
      "cell_type": "code",
      "source": [],
      "metadata": {
        "id": "HyRyJv6CYPb4"
      },
      "execution_count": null,
      "outputs": []
    },
    {
      "cell_type": "markdown",
      "source": [
        "## 3. In this nest dictionary grab the word \"hello\""
      ],
      "metadata": {
        "id": "KE74ZEwkRExZ"
      }
    },
    {
      "cell_type": "code",
      "source": [
        "d = {'k1':[1,2,3,{'tricky':['oh','man','inception',{'target':[1,2,3,'hello']}]}]}"
      ],
      "metadata": {
        "id": "fcVwbCc1QrQI"
      },
      "execution_count": null,
      "outputs": []
    },
    {
      "cell_type": "code",
      "source": [
        "import numpy as np\n",
        "import numpy as np\n",
        "a=np.array([1,2,3])\n",
        "print(a)"
      ],
      "metadata": {
        "id": "MvbkMZpXYRaw",
        "outputId": "c9c828d0-a8b1-4d86-c5f4-5fbf18f28b41",
        "colab": {
          "base_uri": "https://localhost:8080/"
        }
      },
      "execution_count": 31,
      "outputs": [
        {
          "output_type": "stream",
          "name": "stdout",
          "text": [
            "[1 2 3]\n"
          ]
        }
      ]
    },
    {
      "cell_type": "markdown",
      "source": [
        "# Numpy"
      ],
      "metadata": {
        "id": "bw0vVp-9ddjv"
      }
    },
    {
      "cell_type": "code",
      "source": [
        "import numpy as np\n",
        "array=np.arange(20,36,2)\n",
        "print(\"Array of all the even integers from 30 to 70\")\n",
        "print(array)"
      ],
      "metadata": {
        "id": "LLiE_TYrhA1O"
      },
      "execution_count": null,
      "outputs": []
    },
    {
      "cell_type": "markdown",
      "source": [
        "## 4.1 Create an array of 10 zeros? \n",
        "## 4.2 Create an array of 10 fives?"
      ],
      "metadata": {
        "id": "wOg8hinbgx30"
      }
    },
    {
      "cell_type": "code",
      "source": [
        "import numpy as np\n",
        "array=np.zeros(10)\n",
        "print(\"An array of 10 zeros:\")\n",
        "print(array)"
      ],
      "metadata": {
        "id": "NHrirmgCYXvU"
      },
      "execution_count": null,
      "outputs": []
    },
    {
      "cell_type": "code",
      "source": [
        "array=np.ones(10)*5\n",
        "print(\"An array of 10 fives:\")\n",
        "print(array)"
      ],
      "metadata": {
        "id": "e4005lsTYXxx"
      },
      "execution_count": null,
      "outputs": []
    },
    {
      "cell_type": "markdown",
      "source": [
        "## 5. Create an array of all the even integers from 20 to 35"
      ],
      "metadata": {
        "id": "gZHHDUBvrMX4"
      }
    },
    {
      "cell_type": "code",
      "source": [
        "import numpy as np\n",
        "array=np.arange(20,36,2)\n",
        "print(\"Array of all the even integers from 30 to 70\")\n",
        "print(array)"
      ],
      "metadata": {
        "id": "oAI2tbU2Yag-"
      },
      "execution_count": null,
      "outputs": []
    },
    {
      "cell_type": "markdown",
      "source": [
        "## 6. Create a 3x3 matrix with values ranging from 0 to 8"
      ],
      "metadata": {
        "id": "NaOM308NsRpZ"
      }
    },
    {
      "cell_type": "code",
      "source": [
        "import numpy as np\n",
        "x =  np.arange(0,9).reshape(3,3)\n",
        "print(x)"
      ],
      "metadata": {
        "id": "tOlEVH7BYceE"
      },
      "execution_count": null,
      "outputs": []
    },
    {
      "cell_type": "markdown",
      "source": [
        "## 7. Concatinate a and b \n",
        "## a = np.array([1, 2, 3]), b = np.array([4, 5, 6])"
      ],
      "metadata": {
        "id": "hQ0dnhAQuU_p"
      }
    },
    {
      "cell_type": "code",
      "source": [
        "import numpy as np\n",
        "a = np.array([[1,2,],[3,4]])\n",
        "b = np.array([[5,6]])\n",
        "np.concatenate((a,b), axis=None)"
      ],
      "metadata": {
        "id": "rAPSw97aYfE0",
        "outputId": "d04ec231-9431-4d32-ed35-7d11637b0a36",
        "colab": {
          "base_uri": "https://localhost:8080/"
        }
      },
      "execution_count": 32,
      "outputs": [
        {
          "output_type": "execute_result",
          "data": {
            "text/plain": [
              "array([1, 2, 3, 4, 5, 6])"
            ]
          },
          "metadata": {},
          "execution_count": 32
        }
      ]
    },
    {
      "cell_type": "markdown",
      "source": [
        "# Pandas"
      ],
      "metadata": {
        "id": "dlPEY9DRwZga"
      }
    },
    {
      "cell_type": "markdown",
      "source": [
        "## 8. Create a dataframe with 3 rows and 2 columns"
      ],
      "metadata": {
        "id": "ijoYW51zwr87"
      }
    },
    {
      "cell_type": "code",
      "source": [
        "import pandas as pd\n",
        "\n",
        "data = {\n",
        "  \"calories\": [420, 380, 390],\n",
        "  \"duration\": [50, 40, 45]\n",
        "}\n",
        "\n",
        "#load data into a DataFrame object:\n",
        "df = pd.DataFrame(data)\n",
        "\n",
        "print(df)\n"
      ],
      "metadata": {
        "id": "T5OxJRZ8uvR7",
        "outputId": "be9d9b08-f371-42f5-bf04-315440af7bae",
        "colab": {
          "base_uri": "https://localhost:8080/"
        }
      },
      "execution_count": 33,
      "outputs": [
        {
          "output_type": "stream",
          "name": "stdout",
          "text": [
            "   calories  duration\n",
            "0       420        50\n",
            "1       380        40\n",
            "2       390        45\n"
          ]
        }
      ]
    },
    {
      "cell_type": "code",
      "source": [],
      "metadata": {
        "id": "xNpI_XXoYhs0"
      },
      "execution_count": null,
      "outputs": []
    },
    {
      "cell_type": "markdown",
      "source": [
        "## 9. Generate the series of dates from 1st Jan, 2023 to 10th Feb, 2023"
      ],
      "metadata": {
        "id": "UXSmdNclyJQD"
      }
    },
    {
      "cell_type": "code",
      "source": [
        "import datetime\n",
        "import pandas as pd\n",
        " \n",
        "# initializing date\n",
        "test_date = datetime.datetime.strptime(\"01-01-2022\", \"%d-%m-%Y\")\n",
        " \n",
        "# initializing K\n",
        "K = 41\n",
        " \n",
        "date_generated = pd.date_range(test_date, periods=K)\n",
        "print(date_generated.strftime(\"%d-%m-%Y\"))"
      ],
      "metadata": {
        "id": "dgyC0JhVYl4F"
      },
      "execution_count": null,
      "outputs": []
    },
    {
      "cell_type": "markdown",
      "source": [
        "## 10. Create 2D list to DataFrame\n",
        "\n",
        "lists = [[1, 'aaa', 22],\n",
        "         [2, 'bbb', 25],\n",
        "         [3, 'ccc', 24]]"
      ],
      "metadata": {
        "id": "ZizSetD-y5az"
      }
    },
    {
      "cell_type": "code",
      "source": [
        "lists = [[1, 'aaa', 22], [2, 'bbb', 25], [3, 'ccc', 24]]"
      ],
      "metadata": {
        "id": "_XMC8aEt0llB"
      },
      "execution_count": null,
      "outputs": []
    },
    {
      "cell_type": "code",
      "source": [
        "# import pandas as pd \n",
        "import pandas as pd  \n",
        "      \n",
        "# List1  \n",
        "lst = [[1,'aaa', 22], [2,'bbb', 22], \n",
        "       [3,'ccc', 24]] \n",
        "  \n",
        "# creating df object with columns specified    \n",
        "df = pd.DataFrame(lst, columns =['value','Tag', 'number']) \n",
        "print(df )"
      ],
      "metadata": {
        "id": "knH76sDKYsVX",
        "outputId": "558f6dd0-ad33-4cef-8d37-7254c5e52c7a",
        "colab": {
          "base_uri": "https://localhost:8080/"
        }
      },
      "execution_count": 34,
      "outputs": [
        {
          "output_type": "stream",
          "name": "stdout",
          "text": [
            "   value  Tag  number\n",
            "0      1  aaa      22\n",
            "1      2  bbb      22\n",
            "2      3  ccc      24\n"
          ]
        }
      ]
    }
  ]
}